{
 "cells": [
  {
   "cell_type": "code",
   "execution_count": 6,
   "id": "020fddeb",
   "metadata": {},
   "outputs": [
    {
     "name": "stdout",
     "output_type": "stream",
     "text": [
      "Min number:  1\n"
     ]
    }
   ],
   "source": [
    "def mioget_min_numbers(n):\n",
    "    result = n[0]\n",
    "    for i in n:\n",
    "        if result > i:\n",
    "            result = i\n",
    "    return result\n",
    "\n",
    "numbers=[3,2,45,1,67,34,5]\n",
    "print(\"Min number: \", mioget_min_numbers(numbers))"
   ]
  },
  {
   "cell_type": "code",
   "execution_count": null,
   "id": "29a69967",
   "metadata": {},
   "outputs": [],
   "source": []
  }
 ],
 "metadata": {
  "kernelspec": {
   "display_name": "Python 3 (ipykernel)",
   "language": "python",
   "name": "python3"
  },
  "language_info": {
   "codemirror_mode": {
    "name": "ipython",
    "version": 3
   },
   "file_extension": ".py",
   "mimetype": "text/x-python",
   "name": "python",
   "nbconvert_exporter": "python",
   "pygments_lexer": "ipython3",
   "version": "3.9.13"
  }
 },
 "nbformat": 4,
 "nbformat_minor": 5
}
