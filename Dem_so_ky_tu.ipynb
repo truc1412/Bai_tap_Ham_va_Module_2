{
 "cells": [
  {
   "cell_type": "code",
   "execution_count": 1,
   "id": "8a5b06f8",
   "metadata": {},
   "outputs": [
    {
     "name": "stdout",
     "output_type": "stream",
     "text": [
      "Your string: hello Peter\n",
      "Length:  11\n"
     ]
    }
   ],
   "source": [
    "def count_chars(txt):\n",
    "    result = 0\n",
    "    for char in txt:\n",
    "        result += 1\n",
    "    return result\n",
    "\n",
    "input_str = input('Your string: ')\n",
    "print('Length: ', count_chars(input_str))"
   ]
  },
  {
   "cell_type": "code",
   "execution_count": null,
   "id": "11d0a60c",
   "metadata": {},
   "outputs": [],
   "source": []
  }
 ],
 "metadata": {
  "kernelspec": {
   "display_name": "Python 3 (ipykernel)",
   "language": "python",
   "name": "python3"
  },
  "language_info": {
   "codemirror_mode": {
    "name": "ipython",
    "version": 3
   },
   "file_extension": ".py",
   "mimetype": "text/x-python",
   "name": "python",
   "nbconvert_exporter": "python",
   "pygments_lexer": "ipython3",
   "version": "3.9.13"
  }
 },
 "nbformat": 4,
 "nbformat_minor": 5
}
