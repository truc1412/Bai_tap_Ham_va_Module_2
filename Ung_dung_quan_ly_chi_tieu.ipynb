{
 "cells": [
  {
   "cell_type": "code",
   "execution_count": 15,
   "id": "229accd0",
   "metadata": {},
   "outputs": [
    {
     "name": "stdout",
     "output_type": "stream",
     "text": [
      "Your expenses: []\n",
      "What do you want to do? -\n",
      "1. Add\n",
      "2. Remove\n",
      "3. Bye\n",
      "Select option 1 or 2 or 3: 1\n",
      "Item name: car\n",
      "Item cost: 120000\n",
      "Date: 12/2/2023\n",
      "Your expenses:  [{'name': 'car', 'cost': 120000, 'date': '12/2/2023'}]\n",
      "What do you want to do? -\n",
      "1. Add\n",
      "2. Remove\n",
      "3. Bye\n",
      "Select option 1 or 2 or 3: 3\n",
      "Bye\n"
     ]
    }
   ],
   "source": [
    "def add_item(myTempList, item):    \n",
    "    myTempList.append(item)\n",
    "    \n",
    "def find_index_item(myTempList, item_name):\n",
    "    result = -1\n",
    "    length = len(myTempList)\n",
    "    for i in range(length):\n",
    "        if myTempList[i]['name'] == item_name:\n",
    "            result = i\n",
    "    return result\n",
    "\n",
    "def remove_item(myTempList, item_name):\n",
    "    if find_index_item(myTempList, item_name) > -1:\n",
    "        del myTempList[find_index_item(myTempList, item_name)]\n",
    "    else:\n",
    "        print(item_name + \" not in list\")\n",
    "expenses=[]\n",
    "print(\"Your expenses:\", expenses)\n",
    "while True: \n",
    "    print(\"What do you want to do? -\\n\"\\\n",
    "            \"1. Add\\n\" \\\n",
    "            \"2. Remove\\n\" \\\n",
    "            \"3. Bye\")\n",
    "    option = int(input(\"Select option 1 or 2 or 3: \"))\n",
    "    if option == 3:\n",
    "        print(\"Bye\")\n",
    "        break\n",
    "    name_input = input(\"Item name: \")\n",
    "    if option == 1:\n",
    "        cost_input = int(input(\"Item cost: \"))\n",
    "        date_input = input(\"Date: \")\n",
    "        item = {'name': name_input, 'cost':cost_input, 'date':date_input}\n",
    "        add_item(expenses, item)\n",
    "        print(\"Your expenses: \", expenses)\n",
    "    elif option == 2:\n",
    "        remove_item(expenses, name_input)\n",
    "        print(\"Your expenses: \", expenses)\n",
    "    elif option == 3:\n",
    "        print(\"Bye\")\n",
    "        break\n",
    "    else:\n",
    "        print(\"Invalid input\")\n",
    "    \n",
    "      "
   ]
  },
  {
   "cell_type": "code",
   "execution_count": null,
   "id": "093116c5",
   "metadata": {},
   "outputs": [],
   "source": []
  }
 ],
 "metadata": {
  "kernelspec": {
   "display_name": "Python 3 (ipykernel)",
   "language": "python",
   "name": "python3"
  },
  "language_info": {
   "codemirror_mode": {
    "name": "ipython",
    "version": 3
   },
   "file_extension": ".py",
   "mimetype": "text/x-python",
   "name": "python",
   "nbconvert_exporter": "python",
   "pygments_lexer": "ipython3",
   "version": "3.9.13"
  }
 },
 "nbformat": 4,
 "nbformat_minor": 5
}
